{
 "cells": [
  {
   "cell_type": "markdown",
   "metadata": {},
   "source": [
    "#Analysis for Heroes Of Pymoli"
   ]
  },
  {
   "cell_type": "markdown",
   "metadata": {},
   "source": [
    "# Gender Demographics\n",
    "Majority of the players for the game are male. There are 576 players registered for the game, among all the players, only 81 players are female, the percentage is 14.06%. Meanwhile, there are 484 male players, and the percentage is 84.03%. When it comes to purchasing optional items, the result is very close between genders. Actually, female players are more likely to purchase optional items. The average total purchase per person for female players is $4.47, that is higher than male players which is $4.07.\n"
   ]
  },
  {
   "cell_type": "markdown",
   "metadata": {},
   "source": [
    "# Age Demographics\n",
    "The main age group of the players is from age 15 to 24, with a percentage of 63.37%, especially age group of 20 to 24, the percentage is 44.79%. The age group 20 to 24 purchased the most items and had the highest purchase value among all the age groups. However, age group 35 to 39 spend the most on the average purchase, followed by age group of younger than 10 with the average purchase of $3.35/person."
   ]
  },
  {
   "cell_type": "markdown",
   "metadata": {},
   "source": [
    "# Profit analysis\n",
    "The item that sells most also makes the most profit for the game. But some of the more purchased items doesn’t make the most money for the game. "
   ]
  }
 ],
 "metadata": {
  "kernelspec": {
   "display_name": "Python 3",
   "language": "python",
   "name": "python3"
  },
  "language_info": {
   "codemirror_mode": {
    "name": "ipython",
    "version": 3
   },
   "file_extension": ".py",
   "mimetype": "text/x-python",
   "name": "python",
   "nbconvert_exporter": "python",
   "pygments_lexer": "ipython3",
   "version": "3.7.4"
  }
 },
 "nbformat": 4,
 "nbformat_minor": 2
}
